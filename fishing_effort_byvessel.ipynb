{
 "cells": [
  {
   "cell_type": "code",
   "execution_count": 1,
   "metadata": {},
   "outputs": [],
   "source": [
    "%matplotlib inline\n",
    "import pandas as pd\n",
    "import numpy as np \n",
    "import glob\n",
    "import seaborn as sns"
   ]
  },
  {
   "cell_type": "code",
   "execution_count": 2,
   "metadata": {},
   "outputs": [],
   "source": [
    "dat = pd.read_csv('data/fishing_effort_byvessel/daily_csvs/2012-01-01.csv')"
   ]
  },
  {
   "cell_type": "code",
   "execution_count": 3,
   "metadata": {},
   "outputs": [
    {
     "data": {
      "text/html": [
       "<div>\n",
       "<style scoped>\n",
       "    .dataframe tbody tr th:only-of-type {\n",
       "        vertical-align: middle;\n",
       "    }\n",
       "\n",
       "    .dataframe tbody tr th {\n",
       "        vertical-align: top;\n",
       "    }\n",
       "\n",
       "    .dataframe thead th {\n",
       "        text-align: right;\n",
       "    }\n",
       "</style>\n",
       "<table border=\"1\" class=\"dataframe\">\n",
       "  <thead>\n",
       "    <tr style=\"text-align: right;\">\n",
       "      <th></th>\n",
       "      <th>date</th>\n",
       "      <th>lat_bin</th>\n",
       "      <th>lon_bin</th>\n",
       "      <th>mmsi</th>\n",
       "      <th>fishing_hours</th>\n",
       "    </tr>\n",
       "  </thead>\n",
       "  <tbody>\n",
       "    <tr>\n",
       "      <th>0</th>\n",
       "      <td>2012-01-01</td>\n",
       "      <td>-28</td>\n",
       "      <td>-1746</td>\n",
       "      <td>441536000</td>\n",
       "      <td>11.631806</td>\n",
       "    </tr>\n",
       "    <tr>\n",
       "      <th>1</th>\n",
       "      <td>2012-01-01</td>\n",
       "      <td>-29</td>\n",
       "      <td>-1746</td>\n",
       "      <td>441536000</td>\n",
       "      <td>1.759028</td>\n",
       "    </tr>\n",
       "    <tr>\n",
       "      <th>2</th>\n",
       "      <td>2012-01-01</td>\n",
       "      <td>-30</td>\n",
       "      <td>-1745</td>\n",
       "      <td>441536000</td>\n",
       "      <td>2.763750</td>\n",
       "    </tr>\n",
       "    <tr>\n",
       "      <th>3</th>\n",
       "      <td>2012-01-01</td>\n",
       "      <td>-30</td>\n",
       "      <td>-1744</td>\n",
       "      <td>441536000</td>\n",
       "      <td>3.645139</td>\n",
       "    </tr>\n",
       "    <tr>\n",
       "      <th>4</th>\n",
       "      <td>2012-01-01</td>\n",
       "      <td>-34</td>\n",
       "      <td>636</td>\n",
       "      <td>416121600</td>\n",
       "      <td>4.064861</td>\n",
       "    </tr>\n",
       "  </tbody>\n",
       "</table>\n",
       "</div>"
      ],
      "text/plain": [
       "         date  lat_bin  lon_bin       mmsi  fishing_hours\n",
       "0  2012-01-01      -28    -1746  441536000      11.631806\n",
       "1  2012-01-01      -29    -1746  441536000       1.759028\n",
       "2  2012-01-01      -30    -1745  441536000       2.763750\n",
       "3  2012-01-01      -30    -1744  441536000       3.645139\n",
       "4  2012-01-01      -34      636  416121600       4.064861"
      ]
     },
     "execution_count": 3,
     "metadata": {},
     "output_type": "execute_result"
    }
   ],
   "source": [
    "dat.head()"
   ]
  },
  {
   "cell_type": "code",
   "execution_count": 29,
   "metadata": {},
   "outputs": [],
   "source": [
    "path = r'data/fishing_effort_byvessel/daily_csvs/' # use your path\n",
    "allFiles = glob.glob(path + \"/*.csv\")\n",
    "allFiles = sorted(allFiles, key=lambda x: x[-13:-4])[0:366]\n",
    "list_ = []\n",
    "\n",
    "for file_ in allFiles:\n",
    "    df = pd.read_csv(file_,index_col=None, header=0)\n",
    "    list_.append(df)\n",
    "\n",
    "dat = pd.concat(list_, axis = 0, ignore_index = True)\n",
    "dat.to_csv('data/fishing_effort_byvessel/2012_daily_csvs.csv')"
   ]
  },
  {
   "cell_type": "code",
   "execution_count": 46,
   "metadata": {},
   "outputs": [],
   "source": [
    "dat.head()\n",
    "#dat.describe()\n",
    "len(dat.mmsi.value_counts())\n",
    "dat2 = dat.groupby(['mmsi'], as_index=False).mean()\n",
    "dat2['lat_bin'] = dat2['lat_bin']*.10\n",
    "dat2['lon_bin'] = dat2['lon_bin']*.10"
   ]
  },
  {
   "cell_type": "code",
   "execution_count": 47,
   "metadata": {},
   "outputs": [
    {
     "data": {
      "text/html": [
       "<div>\n",
       "<style scoped>\n",
       "    .dataframe tbody tr th:only-of-type {\n",
       "        vertical-align: middle;\n",
       "    }\n",
       "\n",
       "    .dataframe tbody tr th {\n",
       "        vertical-align: top;\n",
       "    }\n",
       "\n",
       "    .dataframe thead th {\n",
       "        text-align: right;\n",
       "    }\n",
       "</style>\n",
       "<table border=\"1\" class=\"dataframe\">\n",
       "  <thead>\n",
       "    <tr style=\"text-align: right;\">\n",
       "      <th></th>\n",
       "      <th>mmsi</th>\n",
       "      <th>lat_bin</th>\n",
       "      <th>lon_bin</th>\n",
       "      <th>fishing_hours</th>\n",
       "    </tr>\n",
       "  </thead>\n",
       "  <tbody>\n",
       "    <tr>\n",
       "      <th>0</th>\n",
       "      <td>91</td>\n",
       "      <td>22.500000</td>\n",
       "      <td>120.150000</td>\n",
       "      <td>4.449583</td>\n",
       "    </tr>\n",
       "    <tr>\n",
       "      <th>1</th>\n",
       "      <td>416</td>\n",
       "      <td>22.450000</td>\n",
       "      <td>120.216667</td>\n",
       "      <td>1.257130</td>\n",
       "    </tr>\n",
       "    <tr>\n",
       "      <th>2</th>\n",
       "      <td>1313</td>\n",
       "      <td>38.060000</td>\n",
       "      <td>119.868000</td>\n",
       "      <td>2.393572</td>\n",
       "    </tr>\n",
       "    <tr>\n",
       "      <th>3</th>\n",
       "      <td>3060</td>\n",
       "      <td>38.386905</td>\n",
       "      <td>119.621429</td>\n",
       "      <td>3.911622</td>\n",
       "    </tr>\n",
       "    <tr>\n",
       "      <th>4</th>\n",
       "      <td>3659</td>\n",
       "      <td>19.863830</td>\n",
       "      <td>109.106383</td>\n",
       "      <td>6.761058</td>\n",
       "    </tr>\n",
       "  </tbody>\n",
       "</table>\n",
       "</div>"
      ],
      "text/plain": [
       "   mmsi    lat_bin     lon_bin  fishing_hours\n",
       "0    91  22.500000  120.150000       4.449583\n",
       "1   416  22.450000  120.216667       1.257130\n",
       "2  1313  38.060000  119.868000       2.393572\n",
       "3  3060  38.386905  119.621429       3.911622\n",
       "4  3659  19.863830  109.106383       6.761058"
      ]
     },
     "execution_count": 47,
     "metadata": {},
     "output_type": "execute_result"
    }
   ],
   "source": [
    "dat2.head()"
   ]
  },
  {
   "cell_type": "code",
   "execution_count": null,
   "metadata": {},
   "outputs": [],
   "source": []
  },
  {
   "cell_type": "code",
   "execution_count": 64,
   "metadata": {},
   "outputs": [
    {
     "name": "stdout",
     "output_type": "stream",
     "text": [
      "High five! You successfully sent some data to your account on plotly. View your plot in your browser at https://plot.ly/~johnwoodill/0 or inside your plot.ly account where it is named 'precipitation'\n"
     ]
    },
    {
     "data": {
      "text/html": [
       "<iframe id=\"igraph\" scrolling=\"no\" style=\"border:none;\" seamless=\"seamless\" src=\"https://plot.ly/~johnwoodill/0.embed\" height=\"525px\" width=\"100%\"></iframe>"
      ],
      "text/plain": [
       "<plotly.tools.PlotlyDisplay object>"
      ]
     },
     "execution_count": 64,
     "metadata": {},
     "output_type": "execute_result"
    }
   ],
   "source": [
    "import plotly\n",
    "import pandas as pd\n",
    "import plotly.plotly as py\n",
    "\n",
    "plotly.tools.set_credentials_file(username='johnwoodill', api_key='hCOlyUzCHkeM4fjqC1N3')\n",
    "\n",
    "df = pd.read_csv('https://raw.githubusercontent.com/plotly/datasets/master/2015_06_30_precipitation.csv')\n",
    "\n",
    "scl = [0,\"rgb(150,0,90)\"],[0.125,\"rgb(0, 0, 200)\"],[0.25,\"rgb(0, 25, 255)\"],\\\n",
    "[0.375,\"rgb(0, 152, 255)\"],[0.5,\"rgb(44, 255, 150)\"],[0.625,\"rgb(151, 255, 0)\"],\\\n",
    "[0.75,\"rgb(255, 234, 0)\"],[0.875,\"rgb(255, 111, 0)\"],[1,\"rgb(255, 0, 0)\"]\n",
    "\n",
    "data = [ dict(\n",
    "    lat = dat2['lat_bin']*.10,\n",
    "    lon = dat2['lon_bin']*.10,\n",
    "    text = dat2['mmsi'].astype(str),\n",
    "    marker = dict(\n",
    "        color = dat2['mmsi'],\n",
    "        colorscale = scl,\n",
    "        reversescale = True,\n",
    "        opacity = 0.7,\n",
    "        size = 2,\n",
    "        colorbar = dict(\n",
    "            thickness = 10,\n",
    "            titleside = \"right\",\n",
    "            outlinecolor = \"rgba(68, 68, 68, 0)\",\n",
    "            ticks = \"outside\",\n",
    "            ticklen = 3,\n",
    "            showticksuffix = \"last\",\n",
    "            ticksuffix = \" inches\",\n",
    "            dtick = 0.1\n",
    "        ),\n",
    "    ),\n",
    "    type = 'scattergeo'\n",
    ") ]\n",
    "\n",
    "layout = dict(\n",
    "    geo = dict(\n",
    "        scope = 'world',\n",
    "        showland = True,\n",
    "        landcolor = \"rgb(212, 212, 212)\",\n",
    "        subunitcolor = \"rgb(255, 255, 255)\",\n",
    "        countrycolor = \"rgb(255, 255, 255)\",\n",
    "        showlakes = True,\n",
    "        lakecolor = \"rgb(255, 255, 255)\",\n",
    "        showsubunits = True,\n",
    "        showcountries = True,\n",
    "        resolution = 50,\n",
    "        projection = dict(\n",
    "            type = 'conic conformal',\n",
    "            rotation = dict(\n",
    "                lon = -100\n",
    "            )\n",
    "        ),\n",
    "        lonaxis = dict(\n",
    "            showgrid = True,\n",
    "            gridwidth = 0.5,\n",
    "            range= [ -50, 50 ],\n",
    "            dtick = 5\n",
    "        ),\n",
    "        lataxis = dict (\n",
    "            showgrid = True,\n",
    "            gridwidth = 0.5,\n",
    "            range= [ -40, 40 ],\n",
    "            dtick = 5\n",
    "        )\n",
    "    ),\n",
    "    title = 'US Precipitation 06-30-2015<br>Source: <a href=\"http://water.weather.gov/precip/\">NOAA</a>',\n",
    ")\n",
    "fig = { 'data':data, 'layout':layout }\n",
    "py.iplot(fig, filename='precipitation')"
   ]
  },
  {
   "cell_type": "code",
   "execution_count": 57,
   "metadata": {},
   "outputs": [
    {
     "data": {
      "text/plain": [
       "-72.84931506849315"
      ]
     },
     "execution_count": 57,
     "metadata": {},
     "output_type": "execute_result"
    }
   ],
   "source": [
    "min(dat2['lat_bin'])"
   ]
  }
 ],
 "metadata": {
  "kernelspec": {
   "display_name": "Python 3",
   "language": "python",
   "name": "python3"
  },
  "language_info": {
   "codemirror_mode": {
    "name": "ipython",
    "version": 3
   },
   "file_extension": ".py",
   "mimetype": "text/x-python",
   "name": "python",
   "nbconvert_exporter": "python",
   "pygments_lexer": "ipython3",
   "version": "3.6.5"
  }
 },
 "nbformat": 4,
 "nbformat_minor": 2
}
